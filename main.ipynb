{
 "cells": [
  {
   "cell_type": "code",
   "execution_count": 101,
   "metadata": {},
   "outputs": [],
   "source": [
    "from terratorch.cli_tools import LightningInferenceModel\n",
    "import mlflow\n",
    "import torch\n",
    "import torch.nn as nn\n",
    "from torchvision.models.segmentation import (\n",
    "    deeplabv3_mobilenet_v3_large,\n",
    "    DeepLabV3_MobileNet_V3_Large_Weights,\n",
    ")\n",
    "import lightning as L\n",
    "import matplotlib.pyplot as plt"
   ]
  },
  {
   "cell_type": "code",
   "execution_count": 102,
   "metadata": {},
   "outputs": [],
   "source": [
    "CONFIG = \"teachers/hls_burn_scars_teacher/burn_scars_config.yaml\"\n",
    "CHECKPOINT = \"teachers/hls_burn_scars_teacher/Prithvi_EO_V2_300M_BurnScars.pt\""
   ]
  },
  {
   "cell_type": "code",
   "execution_count": 103,
   "metadata": {},
   "outputs": [
    {
     "name": "stderr",
     "output_type": "stream",
     "text": [
      "/home/mkoza/workspace/ml/distilprithvi/venv/lib/python3.12/site-packages/lightning/pytorch/cli.py:530: LightningCLI's args parameter is intended to run from within Python like if it were from the command line. To prevent mistakes it is not recommended to provide both args and command line arguments, got: sys.argv[1:]=['--f=/run/user/1003/jupyter/runtime/kernel-v30a6e9ea46f4929d9f82f91576c5122c93b7c2c4a.json'], args=['--config', 'teachers/hls_burn_scars_teacher/burn_scars_config.yaml'].\n",
      "Seed set to 2\n",
      "INFO:root:Loaded weights for HLSBands.BLUE in position 0 of patch embed\n",
      "INFO:root:Loaded weights for HLSBands.GREEN in position 1 of patch embed\n",
      "INFO:root:Loaded weights for HLSBands.RED in position 2 of patch embed\n",
      "INFO:root:Loaded weights for HLSBands.NIR_NARROW in position 3 of patch embed\n",
      "INFO:root:Loaded weights for HLSBands.SWIR_1 in position 4 of patch embed\n",
      "INFO:root:Loaded weights for HLSBands.SWIR_2 in position 5 of patch embed\n",
      "WARNING:root:Decoder UNetDecoder does not have an `includes_head` attribute. Falling back to the value of the registry.\n",
      "/home/mkoza/workspace/ml/distilprithvi/venv/lib/python3.12/site-packages/lightning/pytorch/cli.py:683: `SemanticSegmentationTask.configure_optimizers` will be overridden by `MyLightningCLI.configure_optimizers`.\n",
      "INFO:pytorch_lightning.utilities.rank_zero:Using bfloat16 Automatic Mixed Precision (AMP)\n",
      "INFO:pytorch_lightning.utilities.rank_zero:You are using the plain ModelCheckpoint callback. Consider using LitModelCheckpoint which with seamless uploading to Model registry.\n",
      "INFO:pytorch_lightning.utilities.rank_zero:GPU available: True (cuda), used: True\n",
      "INFO:pytorch_lightning.utilities.rank_zero:TPU available: False, using: 0 TPU cores\n",
      "INFO:pytorch_lightning.utilities.rank_zero:HPU available: False, using: 0 HPUs\n"
     ]
    }
   ],
   "source": [
    "inference_model = LightningInferenceModel.from_config(CONFIG, CHECKPOINT)\n",
    "teacher = inference_model.model\n",
    "datamodule = inference_model.datamodule"
   ]
  },
  {
   "cell_type": "code",
   "execution_count": 104,
   "metadata": {},
   "outputs": [],
   "source": [
    "class DeepLabMobileNetV3Large(nn.Module):\n",
    "    def __init__(self, num_channels, num_classes):\n",
    "        super().__init__()\n",
    "        self.model = deeplabv3_mobilenet_v3_large(\n",
    "            weights=DeepLabV3_MobileNet_V3_Large_Weights.DEFAULT,\n",
    "        )\n",
    "        self.model.backbone[\"0\"][0] = nn.Conv2d(\n",
    "            num_channels,\n",
    "            16,\n",
    "            kernel_size=(3, 3),\n",
    "            stride=(2, 2),\n",
    "            padding=(1, 1),\n",
    "            bias=False,\n",
    "        )\n",
    "        self.model.classifier[4] = nn.Conv2d(\n",
    "            256,\n",
    "            num_classes,\n",
    "            kernel_size=(1, 1),\n",
    "            stride=(1, 1),\n",
    "            padding=(0, 0),\n",
    "            bias=True,\n",
    "        )\n",
    "\n",
    "    def forward(self, x):\n",
    "        return self.model(x)"
   ]
  },
  {
   "cell_type": "code",
   "execution_count": null,
   "metadata": {},
   "outputs": [],
   "source": [
    "class DistilPrithvi(L.LightningModule):\n",
    "    def __init__(\n",
    "        self,\n",
    "        teacher,\n",
    "        student,\n",
    "        soft_loss_weight=1.0,\n",
    "    ):\n",
    "        super().__init__()\n",
    "        self.teacher = teacher\n",
    "        self.teacher.eval()\n",
    "        self.teacher.requires_grad = False\n",
    "\n",
    "        self.student = student\n",
    "        self.soft_loss_weight = soft_loss_weight\n",
    "\n",
    "        self.metrics = {\n",
    "            \"train\": self.teacher.train_metrics,\n",
    "            \"val\": self.teacher.val_metrics,\n",
    "            \"test\": self.teacher.test_metrics[0],\n",
    "        }\n",
    "\n",
    "    def forward(self, x):\n",
    "        return self.teacher(x).output\n",
    "        # return self.student(x)[\"out\"]\n",
    "\n",
    "    def _step(self, batch, stage):\n",
    "        x = batch[\"image\"]\n",
    "        y = batch[\"mask\"]\n",
    "        y_hat_s = self(x)\n",
    "        y_hat_s_hard = y_hat_s.argmax(dim=1)\n",
    "        loss = self.teacher.criterion(y_hat_s, y)\n",
    "\n",
    "        self.metrics[stage].update(y_hat_s_hard, y)\n",
    "        self.log(f\"{stage}/loss\", loss, on_epoch=True, on_step=False)\n",
    "\n",
    "        return loss\n",
    "\n",
    "    def _on_epoch_end(self, stage):\n",
    "        metrics = self.metrics[stage].compute()\n",
    "        self.log_dict(metrics, on_epoch=True, on_step=False)\n",
    "        self.metrics[stage].reset()\n",
    "\n",
    "    def training_step(self, batch):\n",
    "        return self._step(batch, \"train\")\n",
    "\n",
    "    def validation_step(self, batch):\n",
    "        self._step(batch, \"val\")\n",
    "\n",
    "    def test_step(self, batch):\n",
    "        self._step(batch, \"test\")\n",
    "\n",
    "    def on_train_epoch_end(self):\n",
    "        self._on_epoch_end(\"train\")\n",
    "\n",
    "    def on_validation_epoch_end(self):\n",
    "        self._on_epoch_end(\"val\")\n",
    "\n",
    "    def on_test_epoch_end(self):\n",
    "        self._on_epoch_end(\"test\")\n",
    "\n",
    "    def configure_optimizers(self):\n",
    "        return torch.optim.AdamW(self.parameters(), lr=0.0001)"
   ]
  },
  {
   "cell_type": "code",
   "execution_count": 106,
   "metadata": {},
   "outputs": [],
   "source": [
    "distilprithvi = DistilPrithvi(\n",
    "    teacher=teacher,\n",
    "    student=DeepLabMobileNetV3Large(\n",
    "        num_channels=len(datamodule.output_bands),\n",
    "        num_classes=datamodule.num_classes,\n",
    "    ),\n",
    "    soft_loss_weight=0.0,\n",
    ")"
   ]
  },
  {
   "cell_type": "code",
   "execution_count": 107,
   "metadata": {},
   "outputs": [
    {
     "name": "stderr",
     "output_type": "stream",
     "text": [
      "INFO:pytorch_lightning.utilities.rank_zero:You are using the plain ModelCheckpoint callback. Consider using LitModelCheckpoint which with seamless uploading to Model registry.\n",
      "INFO:pytorch_lightning.utilities.rank_zero:GPU available: True (cuda), used: True\n",
      "INFO:pytorch_lightning.utilities.rank_zero:TPU available: False, using: 0 TPU cores\n",
      "INFO:pytorch_lightning.utilities.rank_zero:HPU available: False, using: 0 HPUs\n"
     ]
    }
   ],
   "source": [
    "trainer = L.Trainer(\n",
    "    max_epochs=0,\n",
    ")"
   ]
  },
  {
   "cell_type": "code",
   "execution_count": 108,
   "metadata": {},
   "outputs": [
    {
     "name": "stderr",
     "output_type": "stream",
     "text": [
      "2025/05/01 17:37:02 WARNING mlflow.utils.autologging_utils: MLflow pytorch autologging is known to be compatible with 1.9.0 <= torch <= 2.6.0, but the installed version is 2.8.0.dev20250430+cu128. If you encounter errors during autologging, try upgrading / downgrading torch to a compatible version, or try upgrading MLflow.\n",
      "2025/05/01 17:37:02 WARNING mlflow.utils.autologging_utils: MLflow autologging encountered a warning: \"/home/mkoza/workspace/ml/distilprithvi/venv/lib/python3.12/site-packages/mlflow/pytorch/_lightning_autolog.py:465: UserWarning: Autologging is known to be compatible with pytorch-lightning versions between 1.9.0 and 2.5.0.post0 and may not succeed with packages outside this range.\"\n",
      "LOCAL_RANK: 0 - CUDA_VISIBLE_DEVICES: [0]\n",
      "\n",
      "  | Name    | Type                     | Params | Mode \n",
      "-------------------------------------------------------------\n",
      "0 | teacher | SemanticSegmentationTask | 324 M  | eval \n",
      "1 | student | DeepLabMobileNetV3Large  | 11.0 M | train\n",
      "-------------------------------------------------------------\n",
      "335 M     Trainable params\n",
      "0         Non-trainable params\n",
      "335 M     Total params\n",
      "1,340.918 Total estimated model params size (MB)\n",
      "289       Modules in train mode\n",
      "618       Modules in eval mode\n"
     ]
    },
    {
     "name": "stdout",
     "output_type": "stream",
     "text": [
      "                                                                           \r"
     ]
    },
    {
     "name": "stderr",
     "output_type": "stream",
     "text": [
      "INFO:pytorch_lightning.utilities.rank_zero:`Trainer.fit` stopped: `max_epochs=0` reached.\n"
     ]
    },
    {
     "name": "stdout",
     "output_type": "stream",
     "text": [
      "                                                                           \r"
     ]
    },
    {
     "name": "stderr",
     "output_type": "stream",
     "text": [
      "2025/05/01 17:37:22 WARNING mlflow.utils.requirements_utils: Found torch version (2.8.0.dev20250430+cu128) contains a local version label (+cu128). MLflow logged a pip requirement for this package as 'torch==2.8.0.dev20250430' without the local version label to make it installable from PyPI. To specify pip requirements containing local version labels, please use `conda_env` or `pip_requirements`.\n",
      "\u001b[31m2025/05/01 17:37:27 WARNING mlflow.models.model: Model logged without a signature and input example. Please set `input_example` parameter when logging the model to auto infer the model signature.\u001b[0m\n",
      "LOCAL_RANK: 0 - CUDA_VISIBLE_DEVICES: [0]\n"
     ]
    },
    {
     "name": "stdout",
     "output_type": "stream",
     "text": [
      "Testing DataLoader 0: 100%|██████████| 15/15 [00:08<00:00,  1.73it/s]\n"
     ]
    },
    {
     "data": {
      "text/html": [
       "<pre style=\"white-space:pre;overflow-x:auto;line-height:normal;font-family:Menlo,'DejaVu Sans Mono',consolas,'Courier New',monospace\">┏━━━━━━━━━━━━━━━━━━━━━━━━━━━━━━━━━━━━━━━━┳━━━━━━━━━━━━━━━━━━━━━━━━━━━━━━━━━━━━━━━━┓\n",
       "┃<span style=\"font-weight: bold\">              Test metric               </span>┃<span style=\"font-weight: bold\">              DataLoader 0              </span>┃\n",
       "┡━━━━━━━━━━━━━━━━━━━━━━━━━━━━━━━━━━━━━━━━╇━━━━━━━━━━━━━━━━━━━━━━━━━━━━━━━━━━━━━━━━┩\n",
       "│<span style=\"color: #008080; text-decoration-color: #008080\">        test/Multiclass_Accuracy        </span>│<span style=\"color: #800080; text-decoration-color: #800080\">           0.9831123352050781           </span>│\n",
       "│<span style=\"color: #008080; text-decoration-color: #008080\">        test/Multiclass_F1_Score        </span>│<span style=\"color: #800080; text-decoration-color: #800080\">           0.9831124544143677           </span>│\n",
       "│<span style=\"color: #008080; text-decoration-color: #008080\">     test/Multiclass_Jaccard_Index      </span>│<span style=\"color: #800080; text-decoration-color: #800080\">           0.9168614149093628           </span>│\n",
       "│<span style=\"color: #008080; text-decoration-color: #008080\">  test/Multiclass_Jaccard_Index_Micro   </span>│<span style=\"color: #800080; text-decoration-color: #800080\">           0.9667857885360718           </span>│\n",
       "│<span style=\"color: #008080; text-decoration-color: #008080\">               test/loss                </span>│<span style=\"color: #800080; text-decoration-color: #800080\">          0.051870208233594894          </span>│\n",
       "│<span style=\"color: #008080; text-decoration-color: #008080\">   test/multiclassaccuracy_burn_scar    </span>│<span style=\"color: #800080; text-decoration-color: #800080\">           0.9355161786079407           </span>│\n",
       "│<span style=\"color: #008080; text-decoration-color: #008080\">   test/multiclassaccuracy_not_burned   </span>│<span style=\"color: #800080; text-decoration-color: #800080\">           0.9886535406112671           </span>│\n",
       "│<span style=\"color: #008080; text-decoration-color: #008080\"> test/multiclassjaccardindex_burn_scar  </span>│<span style=\"color: #800080; text-decoration-color: #800080\">           0.8524360060691833           </span>│\n",
       "│<span style=\"color: #008080; text-decoration-color: #008080\"> test/multiclassjaccardindex_not_burned </span>│<span style=\"color: #800080; text-decoration-color: #800080\">           0.981286883354187            </span>│\n",
       "└────────────────────────────────────────┴────────────────────────────────────────┘\n",
       "</pre>\n"
      ],
      "text/plain": [
       "┏━━━━━━━━━━━━━━━━━━━━━━━━━━━━━━━━━━━━━━━━┳━━━━━━━━━━━━━━━━━━━━━━━━━━━━━━━━━━━━━━━━┓\n",
       "┃\u001b[1m \u001b[0m\u001b[1m             Test metric              \u001b[0m\u001b[1m \u001b[0m┃\u001b[1m \u001b[0m\u001b[1m             DataLoader 0             \u001b[0m\u001b[1m \u001b[0m┃\n",
       "┡━━━━━━━━━━━━━━━━━━━━━━━━━━━━━━━━━━━━━━━━╇━━━━━━━━━━━━━━━━━━━━━━━━━━━━━━━━━━━━━━━━┩\n",
       "│\u001b[36m \u001b[0m\u001b[36m       test/Multiclass_Accuracy       \u001b[0m\u001b[36m \u001b[0m│\u001b[35m \u001b[0m\u001b[35m          0.9831123352050781          \u001b[0m\u001b[35m \u001b[0m│\n",
       "│\u001b[36m \u001b[0m\u001b[36m       test/Multiclass_F1_Score       \u001b[0m\u001b[36m \u001b[0m│\u001b[35m \u001b[0m\u001b[35m          0.9831124544143677          \u001b[0m\u001b[35m \u001b[0m│\n",
       "│\u001b[36m \u001b[0m\u001b[36m    test/Multiclass_Jaccard_Index     \u001b[0m\u001b[36m \u001b[0m│\u001b[35m \u001b[0m\u001b[35m          0.9168614149093628          \u001b[0m\u001b[35m \u001b[0m│\n",
       "│\u001b[36m \u001b[0m\u001b[36m test/Multiclass_Jaccard_Index_Micro  \u001b[0m\u001b[36m \u001b[0m│\u001b[35m \u001b[0m\u001b[35m          0.9667857885360718          \u001b[0m\u001b[35m \u001b[0m│\n",
       "│\u001b[36m \u001b[0m\u001b[36m              test/loss               \u001b[0m\u001b[36m \u001b[0m│\u001b[35m \u001b[0m\u001b[35m         0.051870208233594894         \u001b[0m\u001b[35m \u001b[0m│\n",
       "│\u001b[36m \u001b[0m\u001b[36m  test/multiclassaccuracy_burn_scar   \u001b[0m\u001b[36m \u001b[0m│\u001b[35m \u001b[0m\u001b[35m          0.9355161786079407          \u001b[0m\u001b[35m \u001b[0m│\n",
       "│\u001b[36m \u001b[0m\u001b[36m  test/multiclassaccuracy_not_burned  \u001b[0m\u001b[36m \u001b[0m│\u001b[35m \u001b[0m\u001b[35m          0.9886535406112671          \u001b[0m\u001b[35m \u001b[0m│\n",
       "│\u001b[36m \u001b[0m\u001b[36mtest/multiclassjaccardindex_burn_scar \u001b[0m\u001b[36m \u001b[0m│\u001b[35m \u001b[0m\u001b[35m          0.8524360060691833          \u001b[0m\u001b[35m \u001b[0m│\n",
       "│\u001b[36m \u001b[0m\u001b[36mtest/multiclassjaccardindex_not_burned\u001b[0m\u001b[36m \u001b[0m│\u001b[35m \u001b[0m\u001b[35m          0.981286883354187           \u001b[0m\u001b[35m \u001b[0m│\n",
       "└────────────────────────────────────────┴────────────────────────────────────────┘\n"
      ]
     },
     "metadata": {},
     "output_type": "display_data"
    }
   ],
   "source": [
    "mlflow.pytorch.autolog()\n",
    "\n",
    "with mlflow.start_run():\n",
    "    trainer.fit(\n",
    "        distilprithvi,\n",
    "        datamodule,\n",
    "    )\n",
    "    trainer.test(\n",
    "        distilprithvi,\n",
    "        datamodule,\n",
    "    )"
   ]
  },
  {
   "cell_type": "code",
   "execution_count": 18,
   "metadata": {},
   "outputs": [],
   "source": [
    "def run_model_(x, model, datamodule):\n",
    "\n",
    "    n = {}\n",
    "    n[\"image\"] = x\n",
    "    x = datamodule.aug(n)[\"image\"]\n",
    "\n",
    "    pred = model(x)\n",
    "    pred = pred.output\n",
    "\n",
    "    y_hat = pred.argmax(dim=1)\n",
    "\n",
    "    return y_hat\n",
    "\n",
    "\n",
    "def display_mask(x):\n",
    "    plt.imshow(x, cmap=\"gray\")\n",
    "    plt.axis(\"off\")\n",
    "    plt.show()"
   ]
  },
  {
   "cell_type": "code",
   "execution_count": 19,
   "metadata": {},
   "outputs": [],
   "source": [
    "def display_mask(x):\n",
    "    plt.imshow(x, cmap=\"gray\")\n",
    "    plt.axis(\"off\")\n",
    "    plt.show()"
   ]
  },
  {
   "cell_type": "code",
   "execution_count": 20,
   "metadata": {},
   "outputs": [
    {
     "name": "stdout",
     "output_type": "stream",
     "text": [
      "torch.Size([6, 512, 512])\n"
     ]
    },
    {
     "data": {
      "image/png": "[encoded data removed]",
      "text/plain": [
       "<Figure size 640x480 with 1 Axes>"
      ]
     },
     "metadata": {},
     "output_type": "display_data"
    },
    {
     "data": {
      "image/png": "[encoded data removed]",
      "text/plain": [
       "<Figure size 640x480 with 1 Axes>"
      ]
     },
     "metadata": {},
     "output_type": "display_data"
    }
   ],
   "source": [
    "torch.seed()\n",
    "teacher.eval()\n",
    "datamodule.setup(\"test\")\n",
    "idx = torch.randint(0, len(datamodule.test_dataset), (1,)).item()\n",
    "input_data = datamodule.test_dataset[idx][\"image\"]\n",
    "mask = datamodule.test_dataset[idx][\"mask\"]\n",
    "filename = datamodule.test_dataset[idx][\"filename\"]\n",
    "print(input_data.shape)\n",
    "input_data = input_data.unsqueeze(1).unsqueeze(0)\n",
    "\n",
    "if input_data.mean() > 1:\n",
    "    input_data = input_data / 10000  # Convert to range 0-1\n",
    "\n",
    "pred = run_model_(\n",
    "    input_data,\n",
    "    teacher,\n",
    "    datamodule,\n",
    ")\n",
    "\n",
    "display_mask(pred.squeeze(0).squeeze(0))\n",
    "display_mask(mask.squeeze(0).squeeze(0))"
   ]
  }
 ],
 "metadata": {
  "kernelspec": {
   "display_name": "venv",
   "language": "python",
   "name": "python3"
  },
  "language_info": {
   "codemirror_mode": {
    "name": "ipython",
    "version": 3
   },
   "file_extension": ".py",
   "mimetype": "text/x-python",
   "name": "python",
   "nbconvert_exporter": "python",
   "pygments_lexer": "ipython3",
   "version": "3.12.3"
  }
 },
 "nbformat": 4,
 "nbformat_minor": 2
}
